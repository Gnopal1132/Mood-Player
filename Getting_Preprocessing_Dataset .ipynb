{
 "cells": [
  {
   "cell_type": "code",
   "execution_count": 1,
   "metadata": {},
   "outputs": [
    {
     "name": "stdout",
     "output_type": "stream",
     "text": [
      "Requirement already satisfied: opencv-python in c:\\users\\gopu\\desktop\\deepfacialobjectdetection\\expression\\lib\\site-packages (4.5.2.52)\n",
      "Requirement already satisfied: numpy>=1.14.5 in c:\\users\\gopu\\desktop\\deepfacialobjectdetection\\expression\\lib\\site-packages (from opencv-python) (1.20.2)\n"
     ]
    }
   ],
   "source": [
    "!pip install opencv-python"
   ]
  },
  {
   "cell_type": "code",
   "execution_count": 2,
   "metadata": {},
   "outputs": [],
   "source": [
    "import os  # This library is for simply the directory flow\n",
    "import time  # To make sleep\n",
    "import uuid  # For unique Identifier\n",
    "import cv2  # Computer Vision Library"
   ]
  },
  {
   "cell_type": "code",
   "execution_count": 4,
   "metadata": {},
   "outputs": [],
   "source": [
    "Workspace = os.path.join(\"Workspace\",\"Images\")\n",
    "MUSIK_PATH =  os.path.join('Workspace','Musik')"
   ]
  },
  {
   "cell_type": "code",
   "execution_count": 5,
   "metadata": {},
   "outputs": [],
   "source": [
    "if not os.path.exists(Workspace):\n",
    "    if os.name == 'nt':\n",
    "        !mkdir {Workspace}\n",
    "    elif os.name == 'posix':\n",
    "        !mkdir -p {Workspace}"
   ]
  },
  {
   "cell_type": "code",
   "execution_count": 6,
   "metadata": {},
   "outputs": [],
   "source": [
    "if not os.path.exists(MUSIK_PATH):\n",
    "    if os.name == 'nt':\n",
    "        !mkdir {MUSIK_PATH}\n",
    "    elif os.name == 'posix':\n",
    "        !mkdir -p {MUSIK_PATH}"
   ]
  },
  {
   "cell_type": "code",
   "execution_count": 8,
   "metadata": {},
   "outputs": [],
   "source": [
    "Class = [\"Sad\",\"Angry\",\"Happy\",\"Shocked\",\"Crazy\"]\n",
    "n_instances = 5"
   ]
  },
  {
   "cell_type": "code",
   "execution_count": 5,
   "metadata": {},
   "outputs": [],
   "source": [
    "GET_IMAGES = os.path.join(Workspace,\"Capture_Img\")\n",
    "if not os.path.exists(GET_IMAGES):\n",
    "    if os.name == 'nt':\n",
    "        !mkdir {GET_IMAGES}\n",
    "    elif os.name == 'posix':\n",
    "        !mkdir -p {GET_IMAGES}"
   ]
  },
  {
   "cell_type": "code",
   "execution_count": 6,
   "metadata": {},
   "outputs": [],
   "source": [
    "for class_ in Class:\n",
    "    temp = os.path.join(GET_IMAGES,class_)\n",
    "    if not os.path.exists(temp):\n",
    "        if os.name == 'nt':\n",
    "            !mkdir {temp}\n",
    "        elif os.name == 'posix':\n",
    "            !mkdir -p {temp}"
   ]
  },
  {
   "cell_type": "code",
   "execution_count": 9,
   "metadata": {},
   "outputs": [],
   "source": [
    "for class_ in Class:\n",
    "    temp = os.path.join(MUSIK_PATH,class_)\n",
    "    if not os.path.exists(temp):\n",
    "        if os.name == 'nt':\n",
    "            !mkdir {temp}\n",
    "        elif os.name == 'posix':\n",
    "            !mkdir -p {temp}"
   ]
  },
  {
   "cell_type": "code",
   "execution_count": 12,
   "metadata": {},
   "outputs": [
    {
     "name": "stdout",
     "output_type": "stream",
     "text": [
      "Image are about to be taken.\n",
      "Image number: 0 for Class:Sad is about to be taken in 5 seconds.\n",
      "Image number: 0 for Class:Sad was successfully taken\n",
      "Image number: 1 for Class:Sad is about to be taken in 5 seconds.\n",
      "Image number: 1 for Class:Sad was successfully taken\n",
      "Image number: 2 for Class:Sad is about to be taken in 5 seconds.\n",
      "Image number: 2 for Class:Sad was successfully taken\n",
      "Image number: 3 for Class:Sad is about to be taken in 5 seconds.\n",
      "Image number: 3 for Class:Sad was successfully taken\n",
      "Image number: 4 for Class:Sad is about to be taken in 5 seconds.\n",
      "Image number: 4 for Class:Sad was successfully taken\n"
     ]
    }
   ],
   "source": [
    "# Lets Capture the Images\n",
    "print(\"Image are about to be taken.\")\n",
    "time.sleep(2)\n",
    "for instance_class in Class:\n",
    "    cam_object = cv2.VideoCapture(0)\n",
    "    for i in range(n_instances):\n",
    "        print(f\"Image number: {i} for Class:{instance_class} is about to be taken in 5 seconds.\")\n",
    "        time.sleep(5)\n",
    "        ret,frame = cam_object.read()  # Grabs, decodes and returns the next video frame.\n",
    "        IMG_PATH = os.path.join(GET_IMAGES,instance_class,instance_class+\"{}.jpg\".format(uuid.uuid1()))\n",
    "        cv2.imwrite(IMG_PATH,frame)\n",
    "        cv2.imshow('Frame',frame)\n",
    "        print(f\"Image number: {i} for Class:{instance_class} was successfully taken\")\n",
    "    \n",
    "    # To quit it out\n",
    "    if cv2.waitKey(1) & 0xFF == ord('q'):\n",
    "        break\n",
    "cam_object.release()\n",
    "cv2.destroyAllWindows()"
   ]
  },
  {
   "cell_type": "code",
   "execution_count": 14,
   "metadata": {},
   "outputs": [],
   "source": [
    "# Now lets Label the Image using Label Imager\n",
    "LABEL_IMAGER = os.path.join(Workspace,\"LabelImager\")\n",
    "if not os.path.exists(LABEL_IMAGER):\n",
    "    if os.name == 'nt':\n",
    "        !mkdir {LABEL_IMAGER}\n",
    "    elif os.name == 'posix':\n",
    "        !mkdir -p {LABEL_IMAGER}"
   ]
  },
  {
   "cell_type": "code",
   "execution_count": 15,
   "metadata": {},
   "outputs": [
    {
     "name": "stderr",
     "output_type": "stream",
     "text": [
      "fatal: destination path 'Workspace\\Images\\LabelImager' already exists and is not an empty directory.\n"
     ]
    }
   ],
   "source": [
    "!git clone \"https://github.com/tzutalin/labelImg\" {LABEL_IMAGER}"
   ]
  },
  {
   "cell_type": "code",
   "execution_count": 16,
   "metadata": {},
   "outputs": [
    {
     "name": "stdout",
     "output_type": "stream",
     "text": [
      "Requirement already satisfied: pyqt5 in c:\\users\\gopu\\desktop\\deepfacialobjectdetection\\expression\\lib\\site-packages (5.15.4)\n",
      "Requirement already satisfied: lxml in c:\\users\\gopu\\desktop\\deepfacialobjectdetection\\expression\\lib\\site-packages (4.6.3)\n",
      "Requirement already satisfied: PyQt5-Qt5>=5.15 in c:\\users\\gopu\\desktop\\deepfacialobjectdetection\\expression\\lib\\site-packages (from pyqt5) (5.15.2)\n",
      "Requirement already satisfied: PyQt5-sip<13,>=12.8 in c:\\users\\gopu\\desktop\\deepfacialobjectdetection\\expression\\lib\\site-packages (from pyqt5) (12.8.1)\n"
     ]
    }
   ],
   "source": [
    "!pip install pyqt5 lxml\n",
    " # Installing pyqt5 and lxml"
   ]
  },
  {
   "cell_type": "code",
   "execution_count": 17,
   "metadata": {},
   "outputs": [],
   "source": [
    "if os.name == 'posix':\n",
    "    !make qt5py3\n",
    "elif os.name == 'nt':\n",
    "    !cd {LABEL_IMAGER} && pyrcc5 -o libs/resources.py resources.qrc"
   ]
  },
  {
   "cell_type": "code",
   "execution_count": 18,
   "metadata": {},
   "outputs": [
    {
     "name": "stdout",
     "output_type": "stream",
     "text": [
      "Image:C:\\Users\\Gopu\\Desktop\\DeepFacialObjectDetection\\Workspace\\Images\\Capture_Img\\Angry\\Angry5b12ff0a-b322-11eb-b88d-5800e32a06be.jpg -> Annotation:C:/Users/Gopu/Desktop/DeepFacialObjectDetection/Workspace/Images/Capture_Img/Angry/Angry5b12ff0a-b322-11eb-b88d-5800e32a06be.xml\n",
      "Image:C:\\Users\\Gopu\\Desktop\\DeepFacialObjectDetection\\Workspace\\Images\\Capture_Img\\Angry\\Angry5e11ed9e-b322-11eb-b64f-5800e32a06be.jpg -> Annotation:C:/Users/Gopu/Desktop/DeepFacialObjectDetection/Workspace/Images/Capture_Img/Angry/Angry5e11ed9e-b322-11eb-b64f-5800e32a06be.xml\n",
      "Image:C:\\Users\\Gopu\\Desktop\\DeepFacialObjectDetection\\Workspace\\Images\\Capture_Img\\Angry\\Angry5510c018-b322-11eb-9d5f-5800e32a06be.jpg -> Annotation:C:/Users/Gopu/Desktop/DeepFacialObjectDetection/Workspace/Images/Capture_Img/Angry/Angry5510c018-b322-11eb-9d5f-5800e32a06be.xml\n",
      "Image:C:\\Users\\Gopu\\Desktop\\DeepFacialObjectDetection\\Workspace\\Images\\Capture_Img\\Angry\\Angry52121c12-b322-11eb-b94b-5800e32a06be.jpg -> Annotation:C:/Users/Gopu/Desktop/DeepFacialObjectDetection/Workspace/Images/Capture_Img/Angry/Angry52121c12-b322-11eb-b94b-5800e32a06be.xml\n",
      "Image:C:\\Users\\Gopu\\Desktop\\DeepFacialObjectDetection\\Workspace\\Images\\Capture_Img\\Angry\\Angry5811728a-b322-11eb-b8e7-5800e32a06be.jpg -> Annotation:C:/Users/Gopu/Desktop/DeepFacialObjectDetection/Workspace/Images/Capture_Img/Angry/Angry5811728a-b322-11eb-b8e7-5800e32a06be.xml\n",
      "Image:C:\\Users\\Gopu\\Desktop\\DeepFacialObjectDetection\\Workspace\\Images\\Capture_Img\\Crazy\\Crazy6a885a58-b322-11eb-8f5c-5800e32a06be.jpg -> Annotation:C:/Users/Gopu/Desktop/DeepFacialObjectDetection/Workspace/Images/Capture_Img/Crazy/Crazy6a885a58-b322-11eb-8f5c-5800e32a06be.xml\n",
      "Image:C:\\Users\\Gopu\\Desktop\\DeepFacialObjectDetection\\Workspace\\Images\\Capture_Img\\Crazy\\Crazy6d876e98-b322-11eb-9964-5800e32a06be.jpg -> Annotation:C:/Users/Gopu/Desktop/DeepFacialObjectDetection/Workspace/Images/Capture_Img/Crazy/Crazy6d876e98-b322-11eb-9964-5800e32a06be.xml\n",
      "Image:C:\\Users\\Gopu\\Desktop\\DeepFacialObjectDetection\\Workspace\\Images\\Capture_Img\\Crazy\\Crazy618db494-b322-11eb-a39f-5800e32a06be.jpg -> Annotation:C:/Users/Gopu/Desktop/DeepFacialObjectDetection/Workspace/Images/Capture_Img/Crazy/Crazy618db494-b322-11eb-a39f-5800e32a06be.xml\n",
      "Image:C:\\Users\\Gopu\\Desktop\\DeepFacialObjectDetection\\Workspace\\Images\\Capture_Img\\Crazy\\Crazy648e352c-b322-11eb-bd54-5800e32a06be.jpg -> Annotation:C:/Users/Gopu/Desktop/DeepFacialObjectDetection/Workspace/Images/Capture_Img/Crazy/Crazy648e352c-b322-11eb-bd54-5800e32a06be.xml\n",
      "Image:C:\\Users\\Gopu\\Desktop\\DeepFacialObjectDetection\\Workspace\\Images\\Capture_Img\\Crazy\\Crazy678c381a-b322-11eb-9504-5800e32a06be.jpg -> Annotation:C:/Users/Gopu/Desktop/DeepFacialObjectDetection/Workspace/Images/Capture_Img/Crazy/Crazy678c381a-b322-11eb-9504-5800e32a06be.xml\n",
      "Image:C:\\Users\\Gopu\\Desktop\\DeepFacialObjectDetection\\Workspace\\Images\\Capture_Img\\Happy\\Happy2c8d3c80-b322-11eb-accf-5800e32a06be.jpg -> Annotation:C:/Users/Gopu/Desktop/DeepFacialObjectDetection/Workspace/Images/Capture_Img/Happy/Happy2c8d3c80-b322-11eb-accf-5800e32a06be.xml\n",
      "Image:C:\\Users\\Gopu\\Desktop\\DeepFacialObjectDetection\\Workspace\\Images\\Capture_Img\\Happy\\Happy2f8c8280-b322-11eb-8aa7-5800e32a06be.jpg -> Annotation:C:/Users/Gopu/Desktop/DeepFacialObjectDetection/Workspace/Images/Capture_Img/Happy/Happy2f8c8280-b322-11eb-8aa7-5800e32a06be.xml\n",
      "Image:C:\\Users\\Gopu\\Desktop\\DeepFacialObjectDetection\\Workspace\\Images\\Capture_Img\\Happy\\Happy238aea28-b322-11eb-9995-5800e32a06be.jpg -> Annotation:C:/Users/Gopu/Desktop/DeepFacialObjectDetection/Workspace/Images/Capture_Img/Happy/Happy238aea28-b322-11eb-9995-5800e32a06be.xml\n",
      "Image:C:\\Users\\Gopu\\Desktop\\DeepFacialObjectDetection\\Workspace\\Images\\Capture_Img\\Happy\\Happy268c6186-b322-11eb-b6c8-5800e32a06be.jpg -> Annotation:C:/Users/Gopu/Desktop/DeepFacialObjectDetection/Workspace/Images/Capture_Img/Happy/Happy268c6186-b322-11eb-b6c8-5800e32a06be.xml\n",
      "Image:C:\\Users\\Gopu\\Desktop\\DeepFacialObjectDetection\\Workspace\\Images\\Capture_Img\\Happy\\Happy298d8eec-b322-11eb-8f9e-5800e32a06be.jpg -> Annotation:C:/Users/Gopu/Desktop/DeepFacialObjectDetection/Workspace/Images/Capture_Img/Happy/Happy298d8eec-b322-11eb-8f9e-5800e32a06be.xml\n",
      "Image:C:\\Users\\Gopu\\Desktop\\DeepFacialObjectDetection\\Workspace\\Images\\Capture_Img\\Sad\\Sad3a8388ba-b323-11eb-ba8b-5800e32a06be.jpg -> Annotation:C:/Users/Gopu/Desktop/DeepFacialObjectDetection/Workspace/Images/Capture_Img/Sad/Sad3a8388ba-b323-11eb-ba8b-5800e32a06be.xml\n",
      "Image:C:\\Users\\Gopu\\Desktop\\DeepFacialObjectDetection\\Workspace\\Images\\Capture_Img\\Sad\\Sad3c0da546-b322-11eb-8d41-5800e32a06be.jpg -> Annotation:C:/Users/Gopu/Desktop/DeepFacialObjectDetection/Workspace/Images/Capture_Img/Sad/Sad3c0da546-b322-11eb-8d41-5800e32a06be.xml\n",
      "Image:C:\\Users\\Gopu\\Desktop\\DeepFacialObjectDetection\\Workspace\\Images\\Capture_Img\\Sad\\Sad3d833a64-b323-11eb-9653-5800e32a06be.jpg -> Annotation:C:/Users/Gopu/Desktop/DeepFacialObjectDetection/Workspace/Images/Capture_Img/Sad/Sad3d833a64-b323-11eb-9653-5800e32a06be.xml\n",
      "Image:C:\\Users\\Gopu\\Desktop\\DeepFacialObjectDetection\\Workspace\\Images\\Capture_Img\\Sad\\Sad3f0d5966-b322-11eb-8ce1-5800e32a06be.jpg -> Annotation:C:/Users/Gopu/Desktop/DeepFacialObjectDetection/Workspace/Images/Capture_Img/Sad/Sad3f0d5966-b322-11eb-8ce1-5800e32a06be.xml\n",
      "Image:C:\\Users\\Gopu\\Desktop\\DeepFacialObjectDetection\\Workspace\\Images\\Capture_Img\\Sad\\Sad330f4d38-b322-11eb-82f6-5800e32a06be.jpg -> Annotation:C:/Users/Gopu/Desktop/DeepFacialObjectDetection/Workspace/Images/Capture_Img/Sad/Sad330f4d38-b322-11eb-82f6-5800e32a06be.xml\n",
      "Image:C:\\Users\\Gopu\\Desktop\\DeepFacialObjectDetection\\Workspace\\Images\\Capture_Img\\Sad\\Sad360e81ee-b322-11eb-a1ef-5800e32a06be.jpg -> Annotation:C:/Users/Gopu/Desktop/DeepFacialObjectDetection/Workspace/Images/Capture_Img/Sad/Sad360e81ee-b322-11eb-a1ef-5800e32a06be.xml\n",
      "Image:C:\\Users\\Gopu\\Desktop\\DeepFacialObjectDetection\\Workspace\\Images\\Capture_Img\\Sad\\Sad390f7a36-b322-11eb-9c05-5800e32a06be.jpg -> Annotation:C:/Users/Gopu/Desktop/DeepFacialObjectDetection/Workspace/Images/Capture_Img/Sad/Sad390f7a36-b322-11eb-9c05-5800e32a06be.xml\n",
      "Image:C:\\Users\\Gopu\\Desktop\\DeepFacialObjectDetection\\Workspace\\Images\\Capture_Img\\Sad\\Sad3783b09c-b323-11eb-b749-5800e32a06be.jpg -> Annotation:C:/Users/Gopu/Desktop/DeepFacialObjectDetection/Workspace/Images/Capture_Img/Sad/Sad3783b09c-b323-11eb-b749-5800e32a06be.xml\n",
      "Image:C:\\Users\\Gopu\\Desktop\\DeepFacialObjectDetection\\Workspace\\Images\\Capture_Img\\Sad\\Sad34800d4a-b323-11eb-8f1f-5800e32a06be.jpg -> Annotation:C:/Users/Gopu/Desktop/DeepFacialObjectDetection/Workspace/Images/Capture_Img/Sad/Sad34800d4a-b323-11eb-8f1f-5800e32a06be.xml\n",
      "Image:C:\\Users\\Gopu\\Desktop\\DeepFacialObjectDetection\\Workspace\\Images\\Capture_Img\\Sad\\Sad40840066-b323-11eb-bcb5-5800e32a06be.jpg -> Annotation:C:/Users/Gopu/Desktop/DeepFacialObjectDetection/Workspace/Images/Capture_Img/Sad/Sad40840066-b323-11eb-bcb5-5800e32a06be.xml\n",
      "Image:C:\\Users\\Gopu\\Desktop\\DeepFacialObjectDetection\\Workspace\\Images\\Capture_Img\\Shocked\\Shocked4b91354c-b322-11eb-9ed3-5800e32a06be.jpg -> Annotation:C:/Users/Gopu/Desktop/DeepFacialObjectDetection/Workspace/Images/Capture_Img/Shocked/Shocked4b91354c-b322-11eb-9ed3-5800e32a06be.xml\n",
      "Image:C:\\Users\\Gopu\\Desktop\\DeepFacialObjectDetection\\Workspace\\Images\\Capture_Img\\Shocked\\Shocked4e901c54-b322-11eb-9c0a-5800e32a06be.jpg -> Annotation:C:/Users/Gopu/Desktop/DeepFacialObjectDetection/Workspace/Images/Capture_Img/Shocked/Shocked4e901c54-b322-11eb-9c0a-5800e32a06be.xml\n",
      "Image:C:\\Users\\Gopu\\Desktop\\DeepFacialObjectDetection\\Workspace\\Images\\Capture_Img\\Shocked\\Shocked428ed81e-b322-11eb-95ad-5800e32a06be.jpg -> Annotation:C:/Users/Gopu/Desktop/DeepFacialObjectDetection/Workspace/Images/Capture_Img/Shocked/Shocked428ed81e-b322-11eb-95ad-5800e32a06be.xml\n",
      "Image:C:\\Users\\Gopu\\Desktop\\DeepFacialObjectDetection\\Workspace\\Images\\Capture_Img\\Shocked\\Shocked458da0d8-b322-11eb-a97a-5800e32a06be.jpg -> Annotation:C:/Users/Gopu/Desktop/DeepFacialObjectDetection/Workspace/Images/Capture_Img/Shocked/Shocked458da0d8-b322-11eb-a97a-5800e32a06be.xml\n"
     ]
    }
   ],
   "source": [
    "!cd {LABEL_IMAGER} && python labelImg.py"
   ]
  },
  {
   "cell_type": "code",
   "execution_count": 24,
   "metadata": {},
   "outputs": [],
   "source": [
    "TRAIN_PATH = os.path.join(Workspace,\"Train\")\n",
    "TEST_PATH = os.path.join(Workspace,\"Test\")\n",
    "TAR_PATH = os.path.join(Workspace,\"Data.tar.gz\")"
   ]
  },
  {
   "cell_type": "code",
   "execution_count": 25,
   "metadata": {},
   "outputs": [],
   "source": [
    "for file_path in [TRAIN_PATH,TEST_PATH]:\n",
    "    if not os.path.exists(file_path):\n",
    "        if os.name == 'nt':\n",
    "            !mkdir {file_path}\n",
    "        elif os.name == 'posix':\n",
    "            !mkdir -p {file_path}"
   ]
  },
  {
   "cell_type": "code",
   "execution_count": 27,
   "metadata": {},
   "outputs": [],
   "source": [
    "!tar -czf {TAR_PATH} {TRAIN_PATH} {TEST_PATH}  \n",
    "# If we want to train on colab"
   ]
  },
  {
   "cell_type": "code",
   "execution_count": null,
   "metadata": {},
   "outputs": [],
   "source": []
  }
 ],
 "metadata": {
  "kernelspec": {
   "display_name": "Expression",
   "language": "python",
   "name": "expression"
  },
  "language_info": {
   "codemirror_mode": {
    "name": "ipython",
    "version": 3
   },
   "file_extension": ".py",
   "mimetype": "text/x-python",
   "name": "python",
   "nbconvert_exporter": "python",
   "pygments_lexer": "ipython3",
   "version": "3.7.7"
  }
 },
 "nbformat": 4,
 "nbformat_minor": 5
}
