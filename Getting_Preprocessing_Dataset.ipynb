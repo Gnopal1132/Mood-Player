{
 "cells": [
  {
   "cell_type": "markdown",
   "id": "3eb8f288",
   "metadata": {},
   "source": [
    "# MoodPlayer"
   ]
  },
  {
   "cell_type": "markdown",
   "id": "bdabba31",
   "metadata": {},
   "source": [
    "This file guides us how to create,store and preprocess all the libraries that are needed for the Project to work"
   ]
  },
  {
   "cell_type": "code",
   "execution_count": 1,
   "id": "1d5a3723",
   "metadata": {},
   "outputs": [
    {
     "name": "stdout",
     "output_type": "stream",
     "text": [
      "Package          Version\n",
      "---------------- -------------------\n",
      "backcall         0.2.0\n",
      "certifi          2020.6.20\n",
      "colorama         0.4.4\n",
      "decorator        4.4.2\n",
      "ipykernel        5.3.4\n",
      "ipython          7.18.1\n",
      "ipython-genutils 0.2.0\n",
      "jedi             0.18.0\n",
      "jupyter-client   6.1.7\n",
      "jupyter-core     4.6.3\n",
      "parso            0.8.0\n",
      "pickleshare      0.7.5\n",
      "pip              20.2.4\n",
      "prompt-toolkit   3.0.8\n",
      "Pygments         2.7.1\n",
      "python-dateutil  2.8.1\n",
      "pywin32          227\n",
      "pyzmq            19.0.2\n",
      "setuptools       50.3.0.post20201006\n",
      "six              1.15.0\n",
      "tornado          6.0.4\n",
      "traitlets        5.0.5\n",
      "wcwidth          0.2.5\n",
      "wheel            0.35.1\n",
      "wincertstore     0.2\n"
     ]
    }
   ],
   "source": [
    "!pip list"
   ]
  },
  {
   "cell_type": "code",
   "execution_count": 2,
   "id": "249bd5a8",
   "metadata": {},
   "outputs": [],
   "source": [
    "# Lets Import Some Libraries:\n",
    "import uuid    # For creating unique identifier\n",
    "import os      # For Travelling through the directories\n",
    "import time    # For sleep Function"
   ]
  },
  {
   "cell_type": "code",
   "execution_count": 3,
   "id": "48f239fa",
   "metadata": {},
   "outputs": [],
   "source": [
    "# Lets create some Directories\n",
    "Workspace = os.path.join(\"Workspace\",\"Images\")    # For the images of respective classes\n",
    "MUSIK_PATH =  os.path.join('Workspace','Musik')   # Here to store the Music files manually"
   ]
  },
  {
   "cell_type": "code",
   "execution_count": 4,
   "id": "79125e37",
   "metadata": {},
   "outputs": [],
   "source": [
    "for file in [Workspace,MUSIK_PATH]:\n",
    "    if not os.path.exists(file):\n",
    "        if os.name == 'nt':  # For windows\n",
    "            !mkdir {file}\n",
    "        else:                # for mac and linus its os.name == 'posix'\n",
    "            !mkdir -p {file}"
   ]
  },
  {
   "cell_type": "code",
   "execution_count": 5,
   "id": "b5ebc31d",
   "metadata": {},
   "outputs": [],
   "source": [
    "Class = [\"Sad\",\"Angry\",\"Happy\",\"Shocked\",\"Crazy\"]      # These are the class instances\n",
    "n_instances = 5  # Number of Images per class Instances"
   ]
  },
  {
   "cell_type": "code",
   "execution_count": 6,
   "id": "6ec9730a",
   "metadata": {},
   "outputs": [],
   "source": [
    "GET_IMAGES = os.path.join(Workspace,\"Capture_Img\")      # Creating the directory where images will be stored\n",
    "if not os.path.exists(GET_IMAGES):\n",
    "    if os.name == 'nt':\n",
    "        !mkdir {GET_IMAGES}\n",
    "    elif os.name == 'posix':\n",
    "        !mkdir -p {GET_IMAGES}"
   ]
  },
  {
   "cell_type": "code",
   "execution_count": 7,
   "id": "eb02771c",
   "metadata": {},
   "outputs": [],
   "source": [
    "for class_ in Class:                            # Creating the subdirectories for each class where images will be stored\n",
    "    temp = os.path.join(GET_IMAGES,class_)\n",
    "    if not os.path.exists(temp):\n",
    "        if os.name == 'nt':\n",
    "            !mkdir {temp}\n",
    "        elif os.name == 'posix':\n",
    "            !mkdir -p {temp}"
   ]
  },
  {
   "cell_type": "code",
   "execution_count": 8,
   "id": "c490d382",
   "metadata": {},
   "outputs": [],
   "source": [
    "for class_ in Class:                    # Creating the subdirectories for each class where Music will be stored\n",
    "    temp = os.path.join(MUSIK_PATH,class_)\n",
    "    if not os.path.exists(temp):\n",
    "        if os.name == 'nt':\n",
    "            !mkdir {temp}\n",
    "        elif os.name == 'posix':\n",
    "            !mkdir -p {temp}"
   ]
  },
  {
   "cell_type": "markdown",
   "id": "bda020c9",
   "metadata": {},
   "source": [
    "Now We need Open-CV for capturing the Images "
   ]
  },
  {
   "cell_type": "code",
   "execution_count": 9,
   "id": "faf47987",
   "metadata": {},
   "outputs": [
    {
     "name": "stdout",
     "output_type": "stream",
     "text": [
      "Collecting opencv-python\n",
      "  Downloading opencv_python-4.5.2.52-cp38-cp38-win_amd64.whl (34.7 MB)\n",
      "Collecting numpy>=1.17.3\n",
      "  Downloading numpy-1.20.3-cp38-cp38-win_amd64.whl (13.7 MB)\n",
      "Installing collected packages: numpy, opencv-python\n",
      "Successfully installed numpy-1.20.3 opencv-python-4.5.2.52\n"
     ]
    }
   ],
   "source": [
    "!pip install opencv-python"
   ]
  },
  {
   "cell_type": "code",
   "execution_count": 10,
   "id": "87f46f3a",
   "metadata": {},
   "outputs": [
    {
     "name": "stdout",
     "output_type": "stream",
     "text": [
      "# packages in environment at C:\\Users\\Gopu\\anaconda3\\envs\\MoodPlayer:\n",
      "#\n",
      "# Name                    Version                   Build  Channel\n",
      "backcall                  0.2.0                      py_0    anaconda\n",
      "ca-certificates           2020.10.14                    0    anaconda\n",
      "certifi                   2020.6.20                py38_0    anaconda\n",
      "colorama                  0.4.4                      py_0    anaconda\n",
      "decorator                 4.4.2                      py_0    anaconda\n",
      "ipykernel                 5.3.4            py38h5ca1d4c_0    anaconda\n",
      "ipython                   7.18.1           py38h5ca1d4c_0    anaconda\n",
      "ipython_genutils          0.2.0                    py38_0    anaconda\n",
      "jedi                      0.18.0           py38haa95532_1  \n",
      "jupyter_client            6.1.7                      py_0    anaconda\n",
      "jupyter_core              4.6.3                    py38_0    anaconda\n",
      "libsodium                 1.0.18               h62dcd97_0    anaconda\n",
      "numpy                     1.20.3                   pypi_0    pypi\n",
      "opencv-python             4.5.2.52                 pypi_0    pypi\n",
      "openssl                   1.1.1h               he774522_0    anaconda\n",
      "parso                     0.8.0                      py_0    anaconda\n",
      "pickleshare               0.7.5                 py38_1000    anaconda\n",
      "pip                       20.2.4                   py38_0    anaconda\n",
      "prompt-toolkit            3.0.8                      py_0    anaconda\n",
      "pygments                  2.7.1                      py_0    anaconda\n",
      "python                    3.8.5                h5fd99cc_1    anaconda\n",
      "python-dateutil           2.8.1                      py_0    anaconda\n",
      "pywin32                   227              py38he774522_1    anaconda\n",
      "pyzmq                     19.0.2           py38ha925a31_1    anaconda\n",
      "setuptools                50.3.0           py38h9490d1a_1    anaconda\n",
      "six                       1.15.0                     py_0    anaconda\n",
      "sqlite                    3.33.0               h2a8f88b_0    anaconda\n",
      "tornado                   6.0.4            py38he774522_1    anaconda\n",
      "traitlets                 5.0.5                      py_0    anaconda\n",
      "vc                        14.1                 h0510ff6_4    anaconda\n",
      "vs2015_runtime            14.16.27012          hf0eaf9b_3    anaconda\n",
      "wcwidth                   0.2.5                      py_0    anaconda\n",
      "wheel                     0.35.1                     py_0    anaconda\n",
      "wincertstore              0.2                      py38_0    anaconda\n",
      "zeromq                    4.3.2                ha925a31_3    anaconda\n",
      "zlib                      1.2.11           vc14h1cdd9ab_1  [vc14]  anaconda\n"
     ]
    }
   ],
   "source": [
    "!conda list"
   ]
  },
  {
   "cell_type": "code",
   "execution_count": 11,
   "id": "c88fdd3e",
   "metadata": {},
   "outputs": [],
   "source": [
    "import cv2"
   ]
  },
  {
   "cell_type": "code",
   "execution_count": 14,
   "id": "fd65bdf6",
   "metadata": {},
   "outputs": [
    {
     "name": "stdout",
     "output_type": "stream",
     "text": [
      "Image are about to be taken.\n",
      "Image number: 0 for Class:Sad is about to be taken in 5 seconds.\n",
      "Image number: 0 for Class:Sad was successfully taken\n",
      "Image number: 1 for Class:Sad is about to be taken in 5 seconds.\n",
      "Image number: 1 for Class:Sad was successfully taken\n",
      "Image number: 2 for Class:Sad is about to be taken in 5 seconds.\n",
      "Image number: 2 for Class:Sad was successfully taken\n",
      "Image number: 3 for Class:Sad is about to be taken in 5 seconds.\n",
      "Image number: 3 for Class:Sad was successfully taken\n",
      "Image number: 4 for Class:Sad is about to be taken in 5 seconds.\n",
      "Image number: 4 for Class:Sad was successfully taken\n",
      "Image number: 0 for Class:Angry is about to be taken in 5 seconds.\n",
      "Image number: 0 for Class:Angry was successfully taken\n",
      "Image number: 1 for Class:Angry is about to be taken in 5 seconds.\n",
      "Image number: 1 for Class:Angry was successfully taken\n",
      "Image number: 2 for Class:Angry is about to be taken in 5 seconds.\n",
      "Image number: 2 for Class:Angry was successfully taken\n",
      "Image number: 3 for Class:Angry is about to be taken in 5 seconds.\n",
      "Image number: 3 for Class:Angry was successfully taken\n",
      "Image number: 4 for Class:Angry is about to be taken in 5 seconds.\n",
      "Image number: 4 for Class:Angry was successfully taken\n",
      "Image number: 0 for Class:Happy is about to be taken in 5 seconds.\n",
      "Image number: 0 for Class:Happy was successfully taken\n",
      "Image number: 1 for Class:Happy is about to be taken in 5 seconds.\n",
      "Image number: 1 for Class:Happy was successfully taken\n",
      "Image number: 2 for Class:Happy is about to be taken in 5 seconds.\n",
      "Image number: 2 for Class:Happy was successfully taken\n",
      "Image number: 3 for Class:Happy is about to be taken in 5 seconds.\n",
      "Image number: 3 for Class:Happy was successfully taken\n",
      "Image number: 4 for Class:Happy is about to be taken in 5 seconds.\n",
      "Image number: 4 for Class:Happy was successfully taken\n",
      "Image number: 0 for Class:Shocked is about to be taken in 5 seconds.\n",
      "Image number: 0 for Class:Shocked was successfully taken\n",
      "Image number: 1 for Class:Shocked is about to be taken in 5 seconds.\n",
      "Image number: 1 for Class:Shocked was successfully taken\n",
      "Image number: 2 for Class:Shocked is about to be taken in 5 seconds.\n",
      "Image number: 2 for Class:Shocked was successfully taken\n",
      "Image number: 3 for Class:Shocked is about to be taken in 5 seconds.\n",
      "Image number: 3 for Class:Shocked was successfully taken\n",
      "Image number: 4 for Class:Shocked is about to be taken in 5 seconds.\n",
      "Image number: 4 for Class:Shocked was successfully taken\n",
      "Image number: 0 for Class:Crazy is about to be taken in 5 seconds.\n",
      "Image number: 0 for Class:Crazy was successfully taken\n",
      "Image number: 1 for Class:Crazy is about to be taken in 5 seconds.\n",
      "Image number: 1 for Class:Crazy was successfully taken\n",
      "Image number: 2 for Class:Crazy is about to be taken in 5 seconds.\n",
      "Image number: 2 for Class:Crazy was successfully taken\n",
      "Image number: 3 for Class:Crazy is about to be taken in 5 seconds.\n",
      "Image number: 3 for Class:Crazy was successfully taken\n",
      "Image number: 4 for Class:Crazy is about to be taken in 5 seconds.\n",
      "Image number: 4 for Class:Crazy was successfully taken\n"
     ]
    }
   ],
   "source": [
    "# Lets Capture the Images\n",
    "print(\"Image are about to be taken.\")\n",
    "time.sleep(2)\n",
    "for instance_class in Class:\n",
    "    cam_object = cv2.VideoCapture(0)     #Creates the CamVideo object to read the images\n",
    "    for i in range(n_instances):\n",
    "        print(f\"Image number: {i} for Class:{instance_class} is about to be taken in 5 seconds.\")\n",
    "        time.sleep(5)\n",
    "        ret,frame = cam_object.read()  # Grabs, decodes and returns the next video frame.\n",
    "        IMG_PATH = os.path.join(GET_IMAGES,instance_class,instance_class+\"{}.jpg\".format(uuid.uuid1()))\n",
    "        cv2.imwrite(IMG_PATH,frame)     #Writes the images to directory\n",
    "        cv2.imshow('Frame',frame)\n",
    "        print(f\"Image number: {i} for Class:{instance_class} was successfully taken\")\n",
    "    \n",
    "    # To quit it out\n",
    "    if cv2.waitKey(1) & 0xFF == ord('q'):\n",
    "        break\n",
    "cam_object.release()\n",
    "cv2.destroyAllWindows()"
   ]
  },
  {
   "cell_type": "markdown",
   "id": "47f73d55",
   "metadata": {},
   "source": [
    "Now for Label Making We have to use LabelImages.A very popular github library"
   ]
  },
  {
   "cell_type": "code",
   "execution_count": 12,
   "id": "791ad38a",
   "metadata": {},
   "outputs": [],
   "source": [
    "# Now lets Label the Image using Label Imager\n",
    "LABEL_IMAGER = os.path.join(Workspace,\"LabelImager\")\n",
    "if not os.path.exists(LABEL_IMAGER):\n",
    "    if os.name == 'nt':\n",
    "        !mkdir {LABEL_IMAGER}\n",
    "    elif os.name == 'posix':\n",
    "        !mkdir -p {LABEL_IMAGER}"
   ]
  },
  {
   "cell_type": "code",
   "execution_count": 13,
   "id": "f0456ad7",
   "metadata": {},
   "outputs": [
    {
     "name": "stderr",
     "output_type": "stream",
     "text": [
      "fatal: destination path 'Workspace\\Images\\LabelImager' already exists and is not an empty directory.\n"
     ]
    }
   ],
   "source": [
    "!git clone \"https://github.com/tzutalin/labelImg\" {LABEL_IMAGER}"
   ]
  },
  {
   "cell_type": "markdown",
   "id": "79686442",
   "metadata": {},
   "source": [
    "Now the three cell are direct commands from the Repository to start the GUI Label Imager"
   ]
  },
  {
   "cell_type": "code",
   "execution_count": 14,
   "id": "0bab0636",
   "metadata": {},
   "outputs": [
    {
     "name": "stdout",
     "output_type": "stream",
     "text": [
      "Collecting pyqt5\n",
      "  Using cached PyQt5-5.15.4-cp36.cp37.cp38.cp39-none-win_amd64.whl (6.8 MB)\n",
      "Collecting lxml\n",
      "  Downloading lxml-4.6.3-cp38-cp38-win_amd64.whl (3.5 MB)\n",
      "Collecting PyQt5-Qt5>=5.15\n",
      "  Using cached PyQt5_Qt5-5.15.2-py3-none-win_amd64.whl (50.1 MB)\n",
      "Collecting PyQt5-sip<13,>=12.8\n",
      "  Downloading PyQt5_sip-12.9.0-cp38-cp38-win_amd64.whl (63 kB)\n",
      "Installing collected packages: PyQt5-Qt5, PyQt5-sip, pyqt5, lxml\n",
      "Successfully installed PyQt5-Qt5-5.15.2 PyQt5-sip-12.9.0 lxml-4.6.3 pyqt5-5.15.4\n"
     ]
    }
   ],
   "source": [
    "!pip install pyqt5 lxml\n",
    " # Installing pyqt5 and lxml"
   ]
  },
  {
   "cell_type": "code",
   "execution_count": 18,
   "id": "b0b21959",
   "metadata": {},
   "outputs": [],
   "source": [
    "if os.name == 'posix':\n",
    "    !make qt5py3\n",
    "elif os.name == 'nt':\n",
    "    !cd {LABEL_IMAGER} && pyrcc5 -o libs/resources.py resources.qrc"
   ]
  },
  {
   "cell_type": "code",
   "execution_count": 20,
   "id": "afe753f0",
   "metadata": {},
   "outputs": [
    {
     "name": "stderr",
     "output_type": "stream",
     "text": [
      "C:\\Users\\Gopu\\Documents\\Python Scripts\\Tensorflow\\Projects\\MoodPlayer\\Workspace\\Images\\LabelImager\\labelImg.py:971: DeprecationWarning: an integer is required (got type float).  Implicit conversion to integers using __int__ is deprecated, and may be removed in a future version of Python.\n",
      "  self.zoom_widget.setValue(value)\n",
      "C:\\Users\\Gopu\\Documents\\Python Scripts\\Tensorflow\\Projects\\MoodPlayer\\Workspace\\Images\\LabelImager\\labelImg.py:1025: DeprecationWarning: an integer is required (got type float).  Implicit conversion to integers using __int__ is deprecated, and may be removed in a future version of Python.\n",
      "  h_bar.setValue(new_h_bar_value)\n",
      "C:\\Users\\Gopu\\Documents\\Python Scripts\\Tensorflow\\Projects\\MoodPlayer\\Workspace\\Images\\LabelImager\\labelImg.py:1026: DeprecationWarning: an integer is required (got type float).  Implicit conversion to integers using __int__ is deprecated, and may be removed in a future version of Python.\n",
      "  v_bar.setValue(new_v_bar_value)\n"
     ]
    }
   ],
   "source": [
    "!cd {LABEL_IMAGER} && python labelImg.py"
   ]
  },
  {
   "cell_type": "code",
   "execution_count": 21,
   "id": "f8ac1b27",
   "metadata": {},
   "outputs": [],
   "source": [
    "TRAIN_PATH = os.path.join(Workspace,\"Train\")\n",
    "TEST_PATH = os.path.join(Workspace,\"Test\")\n",
    "TAR_PATH = os.path.join(Workspace,\"Data.tar.gz\")"
   ]
  },
  {
   "cell_type": "code",
   "execution_count": 22,
   "id": "2ff08851",
   "metadata": {},
   "outputs": [],
   "source": [
    "for file_path in [TRAIN_PATH,TEST_PATH]:\n",
    "    if not os.path.exists(file_path):\n",
    "        if os.name == 'nt':\n",
    "            !mkdir {file_path}\n",
    "        elif os.name == 'posix':\n",
    "            !mkdir -p {file_path}"
   ]
  },
  {
   "cell_type": "markdown",
   "id": "929cceb7",
   "metadata": {},
   "source": [
    "Now either by code or manually by 80:20 ratio take the images from each diretory and seperate it into train and test set"
   ]
  },
  {
   "cell_type": "code",
   "execution_count": 25,
   "id": "a4e4f978",
   "metadata": {},
   "outputs": [],
   "source": [
    "# You can also tar the direcories\n",
    "!tar -czf {TAR_PATH} {TRAIN_PATH} {TEST_PATH} "
   ]
  },
  {
   "cell_type": "code",
   "execution_count": null,
   "id": "83f22c79",
   "metadata": {},
   "outputs": [],
   "source": []
  }
 ],
 "metadata": {
  "kernelspec": {
   "display_name": "MoodPlayer",
   "language": "python",
   "name": "moodplayer"
  },
  "language_info": {
   "codemirror_mode": {
    "name": "ipython",
    "version": 3
   },
   "file_extension": ".py",
   "mimetype": "text/x-python",
   "name": "python",
   "nbconvert_exporter": "python",
   "pygments_lexer": "ipython3",
   "version": "3.8.5"
  }
 },
 "nbformat": 4,
 "nbformat_minor": 5
}
